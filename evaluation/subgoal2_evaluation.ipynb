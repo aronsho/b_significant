{
 "cells": [
  {
   "cell_type": "code",
   "execution_count": 30,
   "metadata": {},
   "outputs": [],
   "source": [
    "import sys\n",
    "sys.path.insert(0, \"/Users/aron/polybox/Projects/b_significant\")\n",
    "\n",
    "import numpy as np\n",
    "import matplotlib.pyplot as plt\n",
    "import itertools as it\n",
    "import pandas as pd\n",
    "\n",
    "from functions.eval_functions import pval_mac"
   ]
  },
  {
   "cell_type": "code",
   "execution_count": 126,
   "metadata": {},
   "outputs": [],
   "source": [
    "n_totals = [\n",
    "    1000,\n",
    "    2000,\n",
    "    3000,\n",
    "    4000,\n",
    "    5000,\n",
    "    7000,\n",
    "    10000,\n",
    "    15000,\n",
    "    20000,\n",
    "    25000,\n",
    "    30000,\n",
    "    35000,\n",
    "    40000,\n",
    "    50000,\n",
    "]\n",
    "delta_bs = np.arange(0, 1.025, 0.025)\n",
    "\n",
    "all_permutations = [\n",
    "    i\n",
    "    for i in it.product(\n",
    "        n_totals,\n",
    "        delta_bs,\n",
    "    )\n",
    "]\n",
    "all_permutations = np.array(all_permutations)\n",
    "\n",
    "# parameter vectors to run through with cl_idx\n",
    "cl_n_totals = all_permutations[:, 0].astype(int)\n",
    "cl_delta_bs = all_permutations[:, 1]\n",
    "\n",
    "def get_string_data(cl_idx):\n",
    "    save_str = (\n",
    "            \"results/resolution/constant_idx/\"\n",
    "            \"acf_mean\" + str(cl_idx) + \".csv\"\n",
    "        )\n",
    "    return save_str\n",
    "\n",
    "\n",
    "def get_df(cl_idx):\n",
    "    all_delta_bs = []\n",
    "    all_n_totals = []\n",
    "    all_acfs = []\n",
    "    all_n_series_used = []\n",
    "\n",
    "    for cl_idx in range(len(cl_n_totals)):\n",
    "        save_str = get_string_data(cl_idx)\n",
    "        try :\n",
    "            acfs = np.genfromtxt('../'+save_str, delimiter=',')\n",
    "        except :\n",
    "            acfs = []\n",
    "        try :\n",
    "            n_series_used = np.genfromtxt('../'+save_str.replace(\"acf_mean\", \"n_used_mean\"), delimiter=',')\n",
    "        except :\n",
    "            n_series_used = []\n",
    "\n",
    "        all_delta_bs.extend([cl_delta_bs[cl_idx]]*len(acfs))\n",
    "        all_n_totals.extend([cl_n_totals[cl_idx]]*len(acfs))\n",
    "        all_acfs.extend(acfs)\n",
    "        all_n_series_used.extend(n_series_used)\n",
    "\n",
    "    # make a dataframe\n",
    "    df = pd.DataFrame({\n",
    "        \"acf\": all_acfs,\n",
    "        \"delta b\": all_delta_bs,\n",
    "        \"n_total\": all_n_totals,\n",
    "        \"n_series_used\": all_n_series_used,\n",
    "    })\n",
    "    return df"
   ]
  },
  {
   "cell_type": "code",
   "execution_count": 127,
   "metadata": {},
   "outputs": [],
   "source": [
    "df = get_df(0)"
   ]
  },
  {
   "cell_type": "code",
   "execution_count": 128,
   "metadata": {},
   "outputs": [],
   "source": [
    "# add a new collum to the dataframe\n",
    "\n",
    "df[\"p_val\"] = pval_mac(np.array(df[\"acf\"]), np.array(df[\"n_series_used\"]),cutting=\"constant_idx\")"
   ]
  },
  {
   "cell_type": "code",
   "execution_count": 129,
   "metadata": {},
   "outputs": [
    {
     "data": {
      "text/html": [
       "<div>\n",
       "<style scoped>\n",
       "    .dataframe tbody tr th:only-of-type {\n",
       "        vertical-align: middle;\n",
       "    }\n",
       "\n",
       "    .dataframe tbody tr th {\n",
       "        vertical-align: top;\n",
       "    }\n",
       "\n",
       "    .dataframe thead th {\n",
       "        text-align: right;\n",
       "    }\n",
       "</style>\n",
       "<table border=\"1\" class=\"dataframe\">\n",
       "  <thead>\n",
       "    <tr style=\"text-align: right;\">\n",
       "      <th></th>\n",
       "      <th>acf</th>\n",
       "      <th>delta b</th>\n",
       "      <th>n_total</th>\n",
       "      <th>n_series_used</th>\n",
       "      <th>p_val</th>\n",
       "    </tr>\n",
       "  </thead>\n",
       "  <tbody>\n",
       "    <tr>\n",
       "      <th>0</th>\n",
       "      <td>0.018415</td>\n",
       "      <td>0.0</td>\n",
       "      <td>1000</td>\n",
       "      <td>99.111111</td>\n",
       "      <td>0.360827</td>\n",
       "    </tr>\n",
       "    <tr>\n",
       "      <th>1</th>\n",
       "      <td>-0.120930</td>\n",
       "      <td>0.0</td>\n",
       "      <td>1000</td>\n",
       "      <td>99.111111</td>\n",
       "      <td>0.917014</td>\n",
       "    </tr>\n",
       "    <tr>\n",
       "      <th>2</th>\n",
       "      <td>0.094164</td>\n",
       "      <td>0.0</td>\n",
       "      <td>1000</td>\n",
       "      <td>99.111111</td>\n",
       "      <td>0.096296</td>\n",
       "    </tr>\n",
       "    <tr>\n",
       "      <th>3</th>\n",
       "      <td>0.010612</td>\n",
       "      <td>0.0</td>\n",
       "      <td>1000</td>\n",
       "      <td>99.111111</td>\n",
       "      <td>0.397922</td>\n",
       "    </tr>\n",
       "    <tr>\n",
       "      <th>4</th>\n",
       "      <td>0.023891</td>\n",
       "      <td>0.0</td>\n",
       "      <td>1000</td>\n",
       "      <td>99.111111</td>\n",
       "      <td>0.335534</td>\n",
       "    </tr>\n",
       "    <tr>\n",
       "      <th>...</th>\n",
       "      <td>...</td>\n",
       "      <td>...</td>\n",
       "      <td>...</td>\n",
       "      <td>...</td>\n",
       "      <td>...</td>\n",
       "    </tr>\n",
       "    <tr>\n",
       "      <th>43995</th>\n",
       "      <td>0.951311</td>\n",
       "      <td>1.0</td>\n",
       "      <td>35000</td>\n",
       "      <td>99.002865</td>\n",
       "      <td>0.000000</td>\n",
       "    </tr>\n",
       "    <tr>\n",
       "      <th>43996</th>\n",
       "      <td>0.941777</td>\n",
       "      <td>1.0</td>\n",
       "      <td>35000</td>\n",
       "      <td>99.002865</td>\n",
       "      <td>0.000000</td>\n",
       "    </tr>\n",
       "    <tr>\n",
       "      <th>43997</th>\n",
       "      <td>0.942929</td>\n",
       "      <td>1.0</td>\n",
       "      <td>35000</td>\n",
       "      <td>99.002865</td>\n",
       "      <td>0.000000</td>\n",
       "    </tr>\n",
       "    <tr>\n",
       "      <th>43998</th>\n",
       "      <td>0.956338</td>\n",
       "      <td>1.0</td>\n",
       "      <td>35000</td>\n",
       "      <td>99.002865</td>\n",
       "      <td>0.000000</td>\n",
       "    </tr>\n",
       "    <tr>\n",
       "      <th>43999</th>\n",
       "      <td>0.938925</td>\n",
       "      <td>1.0</td>\n",
       "      <td>35000</td>\n",
       "      <td>99.002865</td>\n",
       "      <td>0.000000</td>\n",
       "    </tr>\n",
       "  </tbody>\n",
       "</table>\n",
       "<p>44000 rows × 5 columns</p>\n",
       "</div>"
      ],
      "text/plain": [
       "            acf  delta b  n_total  n_series_used     p_val\n",
       "0      0.018415      0.0     1000      99.111111  0.360827\n",
       "1     -0.120930      0.0     1000      99.111111  0.917014\n",
       "2      0.094164      0.0     1000      99.111111  0.096296\n",
       "3      0.010612      0.0     1000      99.111111  0.397922\n",
       "4      0.023891      0.0     1000      99.111111  0.335534\n",
       "...         ...      ...      ...            ...       ...\n",
       "43995  0.951311      1.0    35000      99.002865  0.000000\n",
       "43996  0.941777      1.0    35000      99.002865  0.000000\n",
       "43997  0.942929      1.0    35000      99.002865  0.000000\n",
       "43998  0.956338      1.0    35000      99.002865  0.000000\n",
       "43999  0.938925      1.0    35000      99.002865  0.000000\n",
       "\n",
       "[44000 rows x 5 columns]"
      ]
     },
     "execution_count": 129,
     "metadata": {},
     "output_type": "execute_result"
    }
   ],
   "source": [
    "df"
   ]
  },
  {
   "cell_type": "code",
   "execution_count": 130,
   "metadata": {},
   "outputs": [
    {
     "data": {
      "text/plain": [
       "0"
      ]
     },
     "execution_count": 130,
     "metadata": {},
     "output_type": "execute_result"
    }
   ],
   "source": [
    "sum(df['delta b']==0.15)"
   ]
  },
  {
   "cell_type": "code",
   "execution_count": 131,
   "metadata": {},
   "outputs": [
    {
     "data": {
      "text/plain": [
       "<matplotlib.collections.PathCollection at 0x28f46f290>"
      ]
     },
     "execution_count": 131,
     "metadata": {},
     "output_type": "execute_result"
    },
    {
     "data": {
      "image/png": "[encoded data removed]",
      "text/plain": [
       "<Figure size 640x480 with 1 Axes>"
      ]
     },
     "metadata": {},
     "output_type": "display_data"
    }
   ],
   "source": [
    "plt.scatter(df['delta b'], 1-df['p_val'])"
   ]
  },
  {
   "cell_type": "code",
   "execution_count": 132,
   "metadata": {},
   "outputs": [],
   "source": [
    "# make contour plot od p-values\n",
    "\n",
    "# make a grid of the parameters\n",
    "delta_bs = np.unique(df['delta b'])\n",
    "n_totals = np.unique(df['n_total'])\n",
    "\n",
    "# for each parameter, get the quantiles of the p-values\n",
    "p_val_grid = np.zeros((len(delta_bs), len(n_totals)))\n",
    "for ii, delta_b in enumerate(delta_bs):\n",
    "    for jj, n_total in enumerate(n_totals):\n",
    "        p_val_grid[ii, jj] = np.quantile(1-df[(df['delta b'] == delta_b) & (df['n_total'] == n_total)]['p_val'], 0.05)\n"
   ]
  },
  {
   "cell_type": "code",
   "execution_count": 133,
   "metadata": {},
   "outputs": [],
   "source": [
    "delta_bs = np.unique(df['delta b'])\n"
   ]
  },
  {
   "cell_type": "code",
   "execution_count": 134,
   "metadata": {},
   "outputs": [
    {
     "data": {
      "text/plain": [
       "array([0. , 0.1, 0.2, 0.3, 0.4, 0.5, 0.6, 0.7, 0.8, 0.9, 1. ])"
      ]
     },
     "execution_count": 134,
     "metadata": {},
     "output_type": "execute_result"
    }
   ],
   "source": [
    "delta_bs"
   ]
  },
  {
   "cell_type": "code",
   "execution_count": 137,
   "metadata": {},
   "outputs": [
    {
     "data": {
      "text/plain": [
       "Text(0, 0.5, 'delta b')"
      ]
     },
     "execution_count": 137,
     "metadata": {},
     "output_type": "execute_result"
    },
    {
     "data": {
      "image/png": "[encoded data removed]",
      "text/plain": [
       "<Figure size 640x480 with 1 Axes>"
      ]
     },
     "metadata": {},
     "output_type": "display_data"
    }
   ],
   "source": [
    "# plot the contour plot\n",
    "plt.figure()\n",
    "Contourrange = [0.1,0.5,0.9]\n",
    "CS = plt.contour(n_totals, delta_bs, p_val_grid, levels=Contourrange, colors=['k','r','b'])\n",
    "plt.clabel(CS, fontsize=10, inline=1)\n",
    "\n",
    "\n",
    "# plot grid points\n",
    "for ii, delta_b in enumerate(delta_bs):\n",
    "    for jj, n_total in enumerate(n_totals):\n",
    "        plt.scatter(n_total, delta_b, color='grey', alpha=0.5, s=10)\n",
    "plt.ylim(-0.05, 0.6)\n",
    "\n",
    "plt.xlabel('n_total')\n",
    "plt.ylabel('delta b')"
   ]
  },
  {
   "cell_type": "code",
   "execution_count": null,
   "metadata": {},
   "outputs": [],
   "source": []
  }
 ],
 "metadata": {
  "kernelspec": {
   "display_name": "env",
   "language": "python",
   "name": "python3"
  },
  "language_info": {
   "codemirror_mode": {
    "name": "ipython",
    "version": 3
   },
   "file_extension": ".py",
   "mimetype": "text/x-python",
   "name": "python",
   "nbconvert_exporter": "python",
   "pygments_lexer": "ipython3",
   "version": "3.11.7"
  }
 },
 "nbformat": 4,
 "nbformat_minor": 2
}
