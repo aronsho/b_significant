{
 "cells": [
  {
   "cell_type": "markdown",
   "metadata": {},
   "source": [
    "## 1. Get data"
   ]
  },
  {
   "cell_type": "code",
   "execution_count": 1,
   "metadata": {},
   "outputs": [
    {
     "name": "stderr",
     "output_type": "stream",
     "text": [
      "/var/folders/2_/2txg_9093x37rv1ls3774xkc0000gn/T/ipykernel_50952/1201507386.py:4: DeprecationWarning: \n",
      "Pyarrow will become a required dependency of pandas in the next major release of pandas (pandas 3.0),\n",
      "(to allow more performant data types, such as the Arrow string type, and better interoperability with other libraries)\n",
      "but was not found to be installed on your system.\n",
      "If this would cause problems for you,\n",
      "please provide us feedback at https://github.com/pandas-dev/pandas/issues/54466\n",
      "        \n",
      "  import pandas as pd\n"
     ]
    }
   ],
   "source": [
    "import numpy as np\n",
    "import matplotlib.pyplot as plt\n",
    "import itertools as it\n",
    "import pandas as pd"
   ]
  },
  {
   "cell_type": "markdown",
   "metadata": {},
   "source": [
    "### resolve back index"
   ]
  },
  {
   "cell_type": "code",
   "execution_count": 2,
   "metadata": {},
   "outputs": [],
   "source": [
    "n_series = [15, 20, 25, 30, 40, 50, 70, 100, 150, 200, 250, 300]\n",
    "n_totals = [5000, 10000, 15000, 20000, 25000, 30000, 35000]\n",
    "bs = [0.7, 1.0, 1.3]\n",
    "\n",
    "all_permutations = [\n",
    "    i\n",
    "    for i in it.product(\n",
    "        n_series,\n",
    "        n_totals,\n",
    "        bs,\n",
    "    )\n",
    "]\n",
    "all_permutations = np.array(all_permutations)\n",
    "\n",
    "# parameter vectors to run through with cl_idx\n",
    "cl_n_series = all_permutations[:, 0].astype(int)\n",
    "cl_n_totals = all_permutations[:, 1].astype(int)\n",
    "cl_bs = all_permutations[:, 2]\n",
    "\n",
    "def get_string_data(cutting, transform, cl_idx):\n",
    "    if cutting == \"constant_idx\":\n",
    "        save_str = (\n",
    "            \"results/distributions/cutting_\" + str(cutting) + \"/\"\n",
    "            \"acf_mean_\" + str(cl_idx) + \".csv\"\n",
    "        )\n",
    "    else:\n",
    "        save_str = (\n",
    "            \"results/distributions/cutting_\"\n",
    "            + str(cutting)\n",
    "            + \"/transform_\"\n",
    "            + str(transform)\n",
    "            + \"/\"\n",
    "            \"acf_mean_\" + str(cl_idx) + \".csv\"\n",
    "        )\n",
    "    return save_str\n",
    "\n",
    "\n",
    "def get_df(cutting, transform):\n",
    "    all_acfs = []\n",
    "    all_n_series = []\n",
    "    all_n_series_used = []\n",
    "    all_bs = []\n",
    "    all_n_totals = []\n",
    "\n",
    "    for cl_idx in range(len(cl_n_series)):\n",
    "        cl_idx = 0 # for now\n",
    "\n",
    "        save_str = get_string_data(cutting, transform, cl_idx)\n",
    "\n",
    "        acfs = np.genfromtxt('../'+save_str, delimiter=',')\n",
    "        n_series_used = np.genfromtxt('../'+save_str.replace(\"acf_mean\", \"n_used_mean\"), delimiter=',')\n",
    "        all_acfs.extend(acfs)\n",
    "        all_n_series_used.extend(n_series_used)\n",
    "        all_n_series.extend([cl_n_series[cl_idx]]*len(acfs))\n",
    "        all_bs.extend([cl_bs[cl_idx]]*len(acfs))\n",
    "        all_n_totals.extend([cl_n_totals[cl_idx]]*len(acfs))\n",
    "\n",
    "    # make a dataframe\n",
    "    df = pd.DataFrame({\n",
    "        \"acf\": all_acfs,\n",
    "        \"n_series\": all_n_series,\n",
    "        #\"n_series_used\": all_n_series_used,\n",
    "        \"b\": all_bs,\n",
    "        \"n_total\": all_n_totals,\n",
    "    })\n",
    "    return df"
   ]
  },
  {
   "cell_type": "markdown",
   "metadata": {},
   "source": [
    "## Constant index"
   ]
  },
  {
   "cell_type": "code",
   "execution_count": 3,
   "metadata": {},
   "outputs": [],
   "source": [
    "cutting = \"constant_idx\"\n",
    "transform = False\n",
    "\n",
    "df = get_df(cutting, transform)"
   ]
  },
  {
   "cell_type": "code",
   "execution_count": 4,
   "metadata": {},
   "outputs": [
    {
     "data": {
      "text/html": [
       "<div>\n",
       "<style scoped>\n",
       "    .dataframe tbody tr th:only-of-type {\n",
       "        vertical-align: middle;\n",
       "    }\n",
       "\n",
       "    .dataframe tbody tr th {\n",
       "        vertical-align: top;\n",
       "    }\n",
       "\n",
       "    .dataframe thead th {\n",
       "        text-align: right;\n",
       "    }\n",
       "</style>\n",
       "<table border=\"1\" class=\"dataframe\">\n",
       "  <thead>\n",
       "    <tr style=\"text-align: right;\">\n",
       "      <th></th>\n",
       "      <th>acf</th>\n",
       "      <th>n_series</th>\n",
       "      <th>b</th>\n",
       "      <th>n_total</th>\n",
       "    </tr>\n",
       "  </thead>\n",
       "  <tbody>\n",
       "    <tr>\n",
       "      <th>0</th>\n",
       "      <td>0.001382</td>\n",
       "      <td>15</td>\n",
       "      <td>0.7</td>\n",
       "      <td>5000</td>\n",
       "    </tr>\n",
       "    <tr>\n",
       "      <th>1</th>\n",
       "      <td>-0.027542</td>\n",
       "      <td>15</td>\n",
       "      <td>0.7</td>\n",
       "      <td>5000</td>\n",
       "    </tr>\n",
       "    <tr>\n",
       "      <th>2</th>\n",
       "      <td>-0.204623</td>\n",
       "      <td>15</td>\n",
       "      <td>0.7</td>\n",
       "      <td>5000</td>\n",
       "    </tr>\n",
       "    <tr>\n",
       "      <th>3</th>\n",
       "      <td>-0.126172</td>\n",
       "      <td>15</td>\n",
       "      <td>0.7</td>\n",
       "      <td>5000</td>\n",
       "    </tr>\n",
       "    <tr>\n",
       "      <th>4</th>\n",
       "      <td>0.039700</td>\n",
       "      <td>15</td>\n",
       "      <td>0.7</td>\n",
       "      <td>5000</td>\n",
       "    </tr>\n",
       "    <tr>\n",
       "      <th>...</th>\n",
       "      <td>...</td>\n",
       "      <td>...</td>\n",
       "      <td>...</td>\n",
       "      <td>...</td>\n",
       "    </tr>\n",
       "    <tr>\n",
       "      <th>12595</th>\n",
       "      <td>-0.364446</td>\n",
       "      <td>15</td>\n",
       "      <td>0.7</td>\n",
       "      <td>5000</td>\n",
       "    </tr>\n",
       "    <tr>\n",
       "      <th>12596</th>\n",
       "      <td>0.068523</td>\n",
       "      <td>15</td>\n",
       "      <td>0.7</td>\n",
       "      <td>5000</td>\n",
       "    </tr>\n",
       "    <tr>\n",
       "      <th>12597</th>\n",
       "      <td>-0.221967</td>\n",
       "      <td>15</td>\n",
       "      <td>0.7</td>\n",
       "      <td>5000</td>\n",
       "    </tr>\n",
       "    <tr>\n",
       "      <th>12598</th>\n",
       "      <td>-0.105571</td>\n",
       "      <td>15</td>\n",
       "      <td>0.7</td>\n",
       "      <td>5000</td>\n",
       "    </tr>\n",
       "    <tr>\n",
       "      <th>12599</th>\n",
       "      <td>-0.096666</td>\n",
       "      <td>15</td>\n",
       "      <td>0.7</td>\n",
       "      <td>5000</td>\n",
       "    </tr>\n",
       "  </tbody>\n",
       "</table>\n",
       "<p>12600 rows × 4 columns</p>\n",
       "</div>"
      ],
      "text/plain": [
       "            acf  n_series    b  n_total\n",
       "0      0.001382        15  0.7     5000\n",
       "1     -0.027542        15  0.7     5000\n",
       "2     -0.204623        15  0.7     5000\n",
       "3     -0.126172        15  0.7     5000\n",
       "4      0.039700        15  0.7     5000\n",
       "...         ...       ...  ...      ...\n",
       "12595 -0.364446        15  0.7     5000\n",
       "12596  0.068523        15  0.7     5000\n",
       "12597 -0.221967        15  0.7     5000\n",
       "12598 -0.105571        15  0.7     5000\n",
       "12599 -0.096666        15  0.7     5000\n",
       "\n",
       "[12600 rows x 4 columns]"
      ]
     },
     "execution_count": 4,
     "metadata": {},
     "output_type": "execute_result"
    }
   ],
   "source": [
    "df"
   ]
  },
  {
   "cell_type": "code",
   "execution_count": 26,
   "metadata": {},
   "outputs": [],
   "source": [
    "# n_series_used\n",
    "grouped_mean = df.groupby('n_series_used').mean()\n",
    "grouped_std = df.groupby('n_series_used').std()"
   ]
  },
  {
   "cell_type": "code",
   "execution_count": 27,
   "metadata": {},
   "outputs": [
    {
     "name": "stdout",
     "output_type": "stream",
     "text": [
      "-0.3587865218553115\n"
     ]
    },
    {
     "data": {
      "image/png": "[encoded data removed]",
      "text/plain": [
       "<Figure size 640x480 with 1 Axes>"
      ]
     },
     "metadata": {},
     "output_type": "display_data"
    }
   ],
   "source": [
    "# here, I estimate the std\n",
    "x = grouped_mean.index\n",
    "normalized = grouped_mean['acf'].values *(x*np.sqrt(x-1))/(x-2)\n",
    "normalized_std = grouped_std['acf'].values*(x*np.sqrt(x-1))/(x-2)\n",
    "\n",
    "plt.errorbar(grouped_mean.index, normalized, yerr=2*normalized_std,color='blue', marker='o', linestyle='', markersize=3)\n",
    "\n",
    "weighted_least_squares = np.sum(normalized / normalized_std**2) / np.sum(1 / normalized_std**2)\n",
    "plt.axhline(y=weighted_least_squares, color='red')\n",
    "\n",
    "print(weighted_least_squares)"
   ]
  },
  {
   "cell_type": "code",
   "execution_count": 28,
   "metadata": {},
   "outputs": [],
   "source": [
    "# b\n",
    "grouped_mean = df.groupby('b').mean()\n",
    "grouped_std = df.groupby('b').std()"
   ]
  },
  {
   "cell_type": "code",
   "execution_count": 29,
   "metadata": {},
   "outputs": [],
   "source": [
    "# n_series\n",
    "grouped_mean = df.groupby('n_series').mean()\n",
    "grouped_std = df.groupby('n_series').std()"
   ]
  },
  {
   "cell_type": "code",
   "execution_count": 30,
   "metadata": {},
   "outputs": [],
   "source": [
    "# n_total\n",
    "grouped_mean = df.groupby('n_total').mean()\n",
    "grouped_std = df.groupby('n_total').std()"
   ]
  },
  {
   "cell_type": "markdown",
   "metadata": {},
   "source": [
    "## Random_idx"
   ]
  },
  {
   "cell_type": "code",
   "execution_count": 5,
   "metadata": {},
   "outputs": [
    {
     "ename": "FileNotFoundError",
     "evalue": "../results/distributions/cutting_random_idx/transform_True/n_used_mean_0.csv not found.",
     "output_type": "error",
     "traceback": [
      "\u001b[0;31m---------------------------------------------------------------------------\u001b[0m",
      "\u001b[0;31mFileNotFoundError\u001b[0m                         Traceback (most recent call last)",
      "Cell \u001b[0;32mIn[5], line 4\u001b[0m\n\u001b[1;32m      1\u001b[0m cutting \u001b[38;5;241m=\u001b[39m \u001b[38;5;124m\"\u001b[39m\u001b[38;5;124mrandom_idx\u001b[39m\u001b[38;5;124m\"\u001b[39m\n\u001b[1;32m      2\u001b[0m transform \u001b[38;5;241m=\u001b[39m \u001b[38;5;28;01mTrue\u001b[39;00m\n\u001b[0;32m----> 4\u001b[0m df \u001b[38;5;241m=\u001b[39m \u001b[43mget_df\u001b[49m\u001b[43m(\u001b[49m\u001b[43mcutting\u001b[49m\u001b[43m,\u001b[49m\u001b[43m \u001b[49m\u001b[43mtransform\u001b[49m\u001b[43m)\u001b[49m\n",
      "Cell \u001b[0;32mIn[2], line 51\u001b[0m, in \u001b[0;36mget_df\u001b[0;34m(cutting, transform)\u001b[0m\n\u001b[1;32m     48\u001b[0m save_str \u001b[38;5;241m=\u001b[39m get_string_data(cutting, transform, cl_idx)\n\u001b[1;32m     50\u001b[0m acfs \u001b[38;5;241m=\u001b[39m np\u001b[38;5;241m.\u001b[39mgenfromtxt(\u001b[38;5;124m'\u001b[39m\u001b[38;5;124m../\u001b[39m\u001b[38;5;124m'\u001b[39m\u001b[38;5;241m+\u001b[39msave_str, delimiter\u001b[38;5;241m=\u001b[39m\u001b[38;5;124m'\u001b[39m\u001b[38;5;124m,\u001b[39m\u001b[38;5;124m'\u001b[39m)\n\u001b[0;32m---> 51\u001b[0m n_series_used \u001b[38;5;241m=\u001b[39m \u001b[43mnp\u001b[49m\u001b[38;5;241;43m.\u001b[39;49m\u001b[43mgenfromtxt\u001b[49m\u001b[43m(\u001b[49m\u001b[38;5;124;43m'\u001b[39;49m\u001b[38;5;124;43m../\u001b[39;49m\u001b[38;5;124;43m'\u001b[39;49m\u001b[38;5;241;43m+\u001b[39;49m\u001b[43msave_str\u001b[49m\u001b[38;5;241;43m.\u001b[39;49m\u001b[43mreplace\u001b[49m\u001b[43m(\u001b[49m\u001b[38;5;124;43m\"\u001b[39;49m\u001b[38;5;124;43macf_mean\u001b[39;49m\u001b[38;5;124;43m\"\u001b[39;49m\u001b[43m,\u001b[49m\u001b[43m \u001b[49m\u001b[38;5;124;43m\"\u001b[39;49m\u001b[38;5;124;43mn_used_mean\u001b[39;49m\u001b[38;5;124;43m\"\u001b[39;49m\u001b[43m)\u001b[49m\u001b[43m,\u001b[49m\u001b[43m \u001b[49m\u001b[43mdelimiter\u001b[49m\u001b[38;5;241;43m=\u001b[39;49m\u001b[38;5;124;43m'\u001b[39;49m\u001b[38;5;124;43m,\u001b[39;49m\u001b[38;5;124;43m'\u001b[39;49m\u001b[43m)\u001b[49m\n\u001b[1;32m     52\u001b[0m all_acfs\u001b[38;5;241m.\u001b[39mextend(acfs)\n\u001b[1;32m     53\u001b[0m all_n_series_used\u001b[38;5;241m.\u001b[39mextend(n_series_used)\n",
      "File \u001b[0;32m~/polybox/Projects/b_significant/env/lib/python3.11/site-packages/numpy/lib/npyio.py:1980\u001b[0m, in \u001b[0;36mgenfromtxt\u001b[0;34m(fname, dtype, comments, delimiter, skip_header, skip_footer, converters, missing_values, filling_values, usecols, names, excludelist, deletechars, replace_space, autostrip, case_sensitive, defaultfmt, unpack, usemask, loose, invalid_raise, max_rows, encoding, ndmin, like)\u001b[0m\n\u001b[1;32m   1978\u001b[0m     fname \u001b[38;5;241m=\u001b[39m os_fspath(fname)\n\u001b[1;32m   1979\u001b[0m \u001b[38;5;28;01mif\u001b[39;00m \u001b[38;5;28misinstance\u001b[39m(fname, \u001b[38;5;28mstr\u001b[39m):\n\u001b[0;32m-> 1980\u001b[0m     fid \u001b[38;5;241m=\u001b[39m \u001b[43mnp\u001b[49m\u001b[38;5;241;43m.\u001b[39;49m\u001b[43mlib\u001b[49m\u001b[38;5;241;43m.\u001b[39;49m\u001b[43m_datasource\u001b[49m\u001b[38;5;241;43m.\u001b[39;49m\u001b[43mopen\u001b[49m\u001b[43m(\u001b[49m\u001b[43mfname\u001b[49m\u001b[43m,\u001b[49m\u001b[43m \u001b[49m\u001b[38;5;124;43m'\u001b[39;49m\u001b[38;5;124;43mrt\u001b[39;49m\u001b[38;5;124;43m'\u001b[39;49m\u001b[43m,\u001b[49m\u001b[43m \u001b[49m\u001b[43mencoding\u001b[49m\u001b[38;5;241;43m=\u001b[39;49m\u001b[43mencoding\u001b[49m\u001b[43m)\u001b[49m\n\u001b[1;32m   1981\u001b[0m     fid_ctx \u001b[38;5;241m=\u001b[39m contextlib\u001b[38;5;241m.\u001b[39mclosing(fid)\n\u001b[1;32m   1982\u001b[0m \u001b[38;5;28;01melse\u001b[39;00m:\n",
      "File \u001b[0;32m~/polybox/Projects/b_significant/env/lib/python3.11/site-packages/numpy/lib/_datasource.py:193\u001b[0m, in \u001b[0;36mopen\u001b[0;34m(path, mode, destpath, encoding, newline)\u001b[0m\n\u001b[1;32m    156\u001b[0m \u001b[38;5;250m\u001b[39m\u001b[38;5;124;03m\"\"\"\u001b[39;00m\n\u001b[1;32m    157\u001b[0m \u001b[38;5;124;03mOpen `path` with `mode` and return the file object.\u001b[39;00m\n\u001b[1;32m    158\u001b[0m \n\u001b[0;32m   (...)\u001b[0m\n\u001b[1;32m    189\u001b[0m \n\u001b[1;32m    190\u001b[0m \u001b[38;5;124;03m\"\"\"\u001b[39;00m\n\u001b[1;32m    192\u001b[0m ds \u001b[38;5;241m=\u001b[39m DataSource(destpath)\n\u001b[0;32m--> 193\u001b[0m \u001b[38;5;28;01mreturn\u001b[39;00m \u001b[43mds\u001b[49m\u001b[38;5;241;43m.\u001b[39;49m\u001b[43mopen\u001b[49m\u001b[43m(\u001b[49m\u001b[43mpath\u001b[49m\u001b[43m,\u001b[49m\u001b[43m \u001b[49m\u001b[43mmode\u001b[49m\u001b[43m,\u001b[49m\u001b[43m \u001b[49m\u001b[43mencoding\u001b[49m\u001b[38;5;241;43m=\u001b[39;49m\u001b[43mencoding\u001b[49m\u001b[43m,\u001b[49m\u001b[43m \u001b[49m\u001b[43mnewline\u001b[49m\u001b[38;5;241;43m=\u001b[39;49m\u001b[43mnewline\u001b[49m\u001b[43m)\u001b[49m\n",
      "File \u001b[0;32m~/polybox/Projects/b_significant/env/lib/python3.11/site-packages/numpy/lib/_datasource.py:533\u001b[0m, in \u001b[0;36mDataSource.open\u001b[0;34m(self, path, mode, encoding, newline)\u001b[0m\n\u001b[1;32m    530\u001b[0m     \u001b[38;5;28;01mreturn\u001b[39;00m _file_openers[ext](found, mode\u001b[38;5;241m=\u001b[39mmode,\n\u001b[1;32m    531\u001b[0m                               encoding\u001b[38;5;241m=\u001b[39mencoding, newline\u001b[38;5;241m=\u001b[39mnewline)\n\u001b[1;32m    532\u001b[0m \u001b[38;5;28;01melse\u001b[39;00m:\n\u001b[0;32m--> 533\u001b[0m     \u001b[38;5;28;01mraise\u001b[39;00m \u001b[38;5;167;01mFileNotFoundError\u001b[39;00m(\u001b[38;5;124mf\u001b[39m\u001b[38;5;124m\"\u001b[39m\u001b[38;5;132;01m{\u001b[39;00mpath\u001b[38;5;132;01m}\u001b[39;00m\u001b[38;5;124m not found.\u001b[39m\u001b[38;5;124m\"\u001b[39m)\n",
      "\u001b[0;31mFileNotFoundError\u001b[0m: ../results/distributions/cutting_random_idx/transform_True/n_used_mean_0.csv not found."
     ]
    }
   ],
   "source": [
    "cutting = \"random_idx\"\n",
    "transform = True\n",
    "\n",
    "df = get_df(cutting, transform)"
   ]
  }
 ],
 "metadata": {
  "kernelspec": {
   "display_name": "env",
   "language": "python",
   "name": "python3"
  },
  "language_info": {
   "codemirror_mode": {
    "name": "ipython",
    "version": 3
   },
   "file_extension": ".py",
   "mimetype": "text/x-python",
   "name": "python",
   "nbconvert_exporter": "python",
   "pygments_lexer": "ipython3",
   "version": "3.11.7"
  }
 },
 "nbformat": 4,
 "nbformat_minor": 2
}
